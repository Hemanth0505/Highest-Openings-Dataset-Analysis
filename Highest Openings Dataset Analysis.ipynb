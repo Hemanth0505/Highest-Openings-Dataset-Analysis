{
 "cells": [
  {
   "cell_type": "markdown",
   "id": "339799c6-b700-48ed-b026-7cd340ee30ef",
   "metadata": {},
   "source": [
    "# Project Title: Highest Openings Dataset Analysis project 1"
   ]
  },
  {
   "cell_type": "markdown",
   "id": "97cb75b1-5f19-45bf-9792-5d14ac2b2bc3",
   "metadata": {},
   "source": [
    "## Purpose"
   ]
  },
  {
   "cell_type": "code",
   "execution_count": null,
   "id": "76dbe68e-9f55-4b77-b914-2f5773152b05",
   "metadata": {},
   "outputs": [],
   "source": [
    "The purpose of a highest openings dataset analysis project is to provide valuable insights into the current job market landscape.\n",
    "By examining which industries,roles,and skills are in high demand, the analysis aims to inform various stakeholders such as \n",
    "policymakers, businesses,educational institutions, and individuals seeking employment.The project helps identify emerging trends, \n",
    "guide workforce development initiatives, support strategic decision-making in talent acquisition, and assist job seekers in making\n",
    "informed career choices aligned with market demand."
   ]
  },
  {
   "cell_type": "markdown",
   "id": "3b514d15-2e49-4624-93f1-b27a198b53ca",
   "metadata": {},
   "source": [
    "## Step 0: Installing the packages beforehand"
   ]
  },
  {
   "cell_type": "code",
   "execution_count": 2,
   "id": "bf5a2910-5280-4829-b743-5a00946eaa74",
   "metadata": {},
   "outputs": [
    {
     "name": "stdout",
     "output_type": "stream",
     "text": [
      "Requirement already satisfied: pandas in c:\\users\\chait\\appdata\\local\\programs\\python\\python312\\lib\\site-packages (2.2.2)\n",
      "Requirement already satisfied: numpy>=1.26.0 in c:\\users\\chait\\appdata\\local\\programs\\python\\python312\\lib\\site-packages (from pandas) (1.26.4)\n",
      "Requirement already satisfied: python-dateutil>=2.8.2 in c:\\users\\chait\\appdata\\local\\programs\\python\\python312\\lib\\site-packages (from pandas) (2.9.0.post0)\n",
      "Requirement already satisfied: pytz>=2020.1 in c:\\users\\chait\\appdata\\local\\programs\\python\\python312\\lib\\site-packages (from pandas) (2024.1)\n",
      "Requirement already satisfied: tzdata>=2022.7 in c:\\users\\chait\\appdata\\local\\programs\\python\\python312\\lib\\site-packages (from pandas) (2024.1)\n",
      "Requirement already satisfied: six>=1.5 in c:\\users\\chait\\appdata\\local\\programs\\python\\python312\\lib\\site-packages (from python-dateutil>=2.8.2->pandas) (1.16.0)\n",
      "Collecting matplotlib\n",
      "  Downloading matplotlib-3.8.4-cp312-cp312-win_amd64.whl.metadata (5.9 kB)\n",
      "Collecting contourpy>=1.0.1 (from matplotlib)\n",
      "  Downloading contourpy-1.2.1-cp312-cp312-win_amd64.whl.metadata (5.8 kB)\n",
      "Collecting cycler>=0.10 (from matplotlib)\n",
      "  Downloading cycler-0.12.1-py3-none-any.whl.metadata (3.8 kB)\n",
      "Collecting fonttools>=4.22.0 (from matplotlib)\n",
      "  Downloading fonttools-4.51.0-cp312-cp312-win_amd64.whl.metadata (162 kB)\n",
      "     ---------------------------------------- 0.0/162.8 kB ? eta -:--:--\n",
      "     -- ------------------------------------- 10.2/162.8 kB ? eta -:--:--\n",
      "     -- ------------------------------------- 10.2/162.8 kB ? eta -:--:--\n",
      "     ------------- ----------------------- 61.4/162.8 kB 469.7 kB/s eta 0:00:01\n",
      "     ------------- ----------------------- 61.4/162.8 kB 469.7 kB/s eta 0:00:01\n",
      "     --------------------------- -------- 122.9/162.8 kB 514.3 kB/s eta 0:00:01\n",
      "     --------------------------------- -- 153.6/162.8 kB 510.2 kB/s eta 0:00:01\n",
      "     ------------------------------------ 162.8/162.8 kB 513.5 kB/s eta 0:00:00\n",
      "Collecting kiwisolver>=1.3.1 (from matplotlib)\n",
      "  Downloading kiwisolver-1.4.5-cp312-cp312-win_amd64.whl.metadata (6.5 kB)\n",
      "Requirement already satisfied: numpy>=1.21 in c:\\users\\chait\\appdata\\local\\programs\\python\\python312\\lib\\site-packages (from matplotlib) (1.26.4)\n",
      "Requirement already satisfied: packaging>=20.0 in c:\\users\\chait\\appdata\\local\\programs\\python\\python312\\lib\\site-packages (from matplotlib) (24.0)\n",
      "Collecting pillow>=8 (from matplotlib)\n",
      "  Downloading pillow-10.3.0-cp312-cp312-win_amd64.whl.metadata (9.4 kB)\n",
      "Collecting pyparsing>=2.3.1 (from matplotlib)\n",
      "  Downloading pyparsing-3.1.2-py3-none-any.whl.metadata (5.1 kB)\n",
      "Requirement already satisfied: python-dateutil>=2.7 in c:\\users\\chait\\appdata\\local\\programs\\python\\python312\\lib\\site-packages (from matplotlib) (2.9.0.post0)\n",
      "Requirement already satisfied: six>=1.5 in c:\\users\\chait\\appdata\\local\\programs\\python\\python312\\lib\\site-packages (from python-dateutil>=2.7->matplotlib) (1.16.0)\n",
      "Downloading matplotlib-3.8.4-cp312-cp312-win_amd64.whl (7.7 MB)\n",
      "   ---------------------------------------- 0.0/7.7 MB ? eta -:--:--\n",
      "   ---------------------------------------- 0.0/7.7 MB 1.3 MB/s eta 0:00:06\n",
      "    --------------------------------------- 0.1/7.7 MB 1.5 MB/s eta 0:00:06\n",
      "    --------------------------------------- 0.2/7.7 MB 1.5 MB/s eta 0:00:05\n",
      "   - -------------------------------------- 0.2/7.7 MB 1.4 MB/s eta 0:00:06\n",
      "   - -------------------------------------- 0.3/7.7 MB 1.6 MB/s eta 0:00:05\n",
      "   -- ------------------------------------- 0.4/7.7 MB 1.5 MB/s eta 0:00:05\n",
      "   -- ------------------------------------- 0.4/7.7 MB 1.5 MB/s eta 0:00:05\n",
      "   -- ------------------------------------- 0.5/7.7 MB 1.5 MB/s eta 0:00:05\n",
      "   --- ------------------------------------ 0.6/7.7 MB 1.5 MB/s eta 0:00:05\n",
      "   --- ------------------------------------ 0.7/7.7 MB 1.6 MB/s eta 0:00:05\n",
      "   ---- ----------------------------------- 0.8/7.7 MB 1.7 MB/s eta 0:00:05\n",
      "   ---- ----------------------------------- 0.9/7.7 MB 1.8 MB/s eta 0:00:04\n",
      "   ----- ---------------------------------- 1.0/7.7 MB 1.8 MB/s eta 0:00:04\n",
      "   ----- ---------------------------------- 1.1/7.7 MB 1.9 MB/s eta 0:00:04\n",
      "   ------ --------------------------------- 1.3/7.7 MB 1.9 MB/s eta 0:00:04\n",
      "   ------- -------------------------------- 1.4/7.7 MB 1.9 MB/s eta 0:00:04\n",
      "   ------- -------------------------------- 1.5/7.7 MB 2.0 MB/s eta 0:00:04\n",
      "   -------- ------------------------------- 1.6/7.7 MB 2.1 MB/s eta 0:00:03\n",
      "   --------- ------------------------------ 1.8/7.7 MB 2.1 MB/s eta 0:00:03\n",
      "   --------- ------------------------------ 1.9/7.7 MB 2.1 MB/s eta 0:00:03\n",
      "   ---------- ----------------------------- 2.1/7.7 MB 2.2 MB/s eta 0:00:03\n",
      "   ----------- ---------------------------- 2.2/7.7 MB 2.2 MB/s eta 0:00:03\n",
      "   ------------ --------------------------- 2.4/7.7 MB 2.3 MB/s eta 0:00:03\n",
      "   ------------- -------------------------- 2.6/7.7 MB 2.4 MB/s eta 0:00:03\n",
      "   ------------- -------------------------- 2.6/7.7 MB 2.4 MB/s eta 0:00:03\n",
      "   ------------- -------------------------- 2.6/7.7 MB 2.4 MB/s eta 0:00:03\n",
      "   -------------- ------------------------- 2.8/7.7 MB 2.3 MB/s eta 0:00:03\n",
      "   --------------- ------------------------ 2.9/7.7 MB 2.2 MB/s eta 0:00:03\n",
      "   --------------- ------------------------ 3.0/7.7 MB 2.2 MB/s eta 0:00:03\n",
      "   ---------------- ----------------------- 3.2/7.7 MB 2.3 MB/s eta 0:00:02\n",
      "   ----------------- ---------------------- 3.4/7.7 MB 2.4 MB/s eta 0:00:02\n",
      "   ------------------ --------------------- 3.5/7.7 MB 2.4 MB/s eta 0:00:02\n",
      "   ------------------- -------------------- 3.7/7.7 MB 2.4 MB/s eta 0:00:02\n",
      "   -------------------- ------------------- 3.9/7.7 MB 2.5 MB/s eta 0:00:02\n",
      "   -------------------- ------------------- 3.9/7.7 MB 2.5 MB/s eta 0:00:02\n",
      "   --------------------- ------------------ 4.1/7.7 MB 2.5 MB/s eta 0:00:02\n",
      "   ---------------------- ----------------- 4.2/7.7 MB 2.5 MB/s eta 0:00:02\n",
      "   ----------------------- ---------------- 4.5/7.7 MB 2.5 MB/s eta 0:00:02\n",
      "   ------------------------ --------------- 4.6/7.7 MB 2.6 MB/s eta 0:00:02\n",
      "   ------------------------- -------------- 4.9/7.7 MB 2.6 MB/s eta 0:00:02\n",
      "   ------------------------- -------------- 4.9/7.7 MB 2.6 MB/s eta 0:00:02\n",
      "   -------------------------- ------------- 5.0/7.7 MB 2.6 MB/s eta 0:00:02\n",
      "   --------------------------- ------------ 5.2/7.7 MB 2.6 MB/s eta 0:00:01\n",
      "   --------------------------- ------------ 5.3/7.7 MB 2.6 MB/s eta 0:00:01\n",
      "   ---------------------------- ----------- 5.5/7.7 MB 2.6 MB/s eta 0:00:01\n",
      "   ----------------------------- ---------- 5.7/7.7 MB 2.7 MB/s eta 0:00:01\n",
      "   ------------------------------- -------- 6.0/7.7 MB 2.7 MB/s eta 0:00:01\n",
      "   -------------------------------- ------- 6.2/7.7 MB 2.8 MB/s eta 0:00:01\n",
      "   -------------------------------- ------- 6.3/7.7 MB 2.8 MB/s eta 0:00:01\n",
      "   --------------------------------- ------ 6.3/7.7 MB 2.7 MB/s eta 0:00:01\n",
      "   ---------------------------------- ----- 6.6/7.7 MB 2.8 MB/s eta 0:00:01\n",
      "   ------------------------------------ --- 6.9/7.7 MB 2.8 MB/s eta 0:00:01\n",
      "   ------------------------------------- -- 7.1/7.7 MB 2.9 MB/s eta 0:00:01\n",
      "   -------------------------------------- - 7.3/7.7 MB 2.9 MB/s eta 0:00:01\n",
      "   ---------------------------------------  7.6/7.7 MB 2.9 MB/s eta 0:00:01\n",
      "   ---------------------------------------- 7.7/7.7 MB 2.9 MB/s eta 0:00:00\n",
      "Downloading contourpy-1.2.1-cp312-cp312-win_amd64.whl (189 kB)\n",
      "   ---------------------------------------- 0.0/189.9 kB ? eta -:--:--\n",
      "   ------------------------------ --------- 143.4/189.9 kB 8.9 MB/s eta 0:00:01\n",
      "   ----------------------------------- --- 174.1/189.9 kB 10.9 MB/s eta 0:00:01\n",
      "   ----------------------------------- --- 174.1/189.9 kB 10.9 MB/s eta 0:00:01\n",
      "   ---------------------------------------- 189.9/189.9 kB 1.2 MB/s eta 0:00:00\n",
      "Downloading cycler-0.12.1-py3-none-any.whl (8.3 kB)\n",
      "Downloading fonttools-4.51.0-cp312-cp312-win_amd64.whl (2.2 MB)\n",
      "   ---------------------------------------- 0.0/2.2 MB ? eta -:--:--\n",
      "   ---- ----------------------------------- 0.3/2.2 MB 7.7 MB/s eta 0:00:01\n",
      "   -------- ------------------------------- 0.5/2.2 MB 6.0 MB/s eta 0:00:01\n",
      "   ------------- -------------------------- 0.7/2.2 MB 5.9 MB/s eta 0:00:01\n",
      "   ------------------- -------------------- 1.1/2.2 MB 6.1 MB/s eta 0:00:01\n",
      "   ------------------------ --------------- 1.3/2.2 MB 6.0 MB/s eta 0:00:01\n",
      "   --------------------------- ------------ 1.5/2.2 MB 5.7 MB/s eta 0:00:01\n",
      "   ----------------------------- ---------- 1.6/2.2 MB 5.2 MB/s eta 0:00:01\n",
      "   ---------------------------------- ----- 1.9/2.2 MB 5.2 MB/s eta 0:00:01\n",
      "   -------------------------------------- - 2.1/2.2 MB 5.1 MB/s eta 0:00:01\n",
      "   ---------------------------------------- 2.2/2.2 MB 4.9 MB/s eta 0:00:00\n",
      "Downloading kiwisolver-1.4.5-cp312-cp312-win_amd64.whl (56 kB)\n",
      "   ---------------------------------------- 0.0/56.0 kB ? eta -:--:--\n",
      "   ---------------------------------------- 56.0/56.0 kB 1.5 MB/s eta 0:00:00\n",
      "Downloading pillow-10.3.0-cp312-cp312-win_amd64.whl (2.5 MB)\n",
      "   ---------------------------------------- 0.0/2.5 MB ? eta -:--:--\n",
      "   - -------------------------------------- 0.1/2.5 MB 6.8 MB/s eta 0:00:01\n",
      "   ------ --------------------------------- 0.4/2.5 MB 6.1 MB/s eta 0:00:01\n",
      "   ---------- ----------------------------- 0.7/2.5 MB 6.1 MB/s eta 0:00:01\n",
      "   ---------------- ----------------------- 1.0/2.5 MB 6.4 MB/s eta 0:00:01\n",
      "   --------------------- ------------------ 1.3/2.5 MB 6.5 MB/s eta 0:00:01\n",
      "   -------------------------- ------------- 1.7/2.5 MB 6.6 MB/s eta 0:00:01\n",
      "   ------------------------------ --------- 2.0/2.5 MB 6.6 MB/s eta 0:00:01\n",
      "   ------------------------------------ --- 2.3/2.5 MB 6.6 MB/s eta 0:00:01\n",
      "   ---------------------------------------  2.5/2.5 MB 6.7 MB/s eta 0:00:01\n",
      "   ---------------------------------------  2.5/2.5 MB 6.7 MB/s eta 0:00:01\n",
      "   ---------------------------------------  2.5/2.5 MB 6.7 MB/s eta 0:00:01\n",
      "   ---------------------------------------- 2.5/2.5 MB 4.9 MB/s eta 0:00:00\n",
      "Downloading pyparsing-3.1.2-py3-none-any.whl (103 kB)\n",
      "   ---------------------------------------- 0.0/103.2 kB ? eta -:--:--\n",
      "   ---------------------------------------- 103.2/103.2 kB 6.2 MB/s eta 0:00:00\n",
      "Installing collected packages: pyparsing, pillow, kiwisolver, fonttools, cycler, contourpy, matplotlib\n",
      "Successfully installed contourpy-1.2.1 cycler-0.12.1 fonttools-4.51.0 kiwisolver-1.4.5 matplotlib-3.8.4 pillow-10.3.0 pyparsing-3.1.2\n"
     ]
    }
   ],
   "source": [
    "!pip install pandas # To install pandas on jupyter notebook\n",
    "!pip install matplotlib # to install matplotlib on notebook"
   ]
  },
  {
   "cell_type": "markdown",
   "id": "8bf434e6-c165-4779-8599-78f2c4b3872b",
   "metadata": {},
   "source": [
    "## Step 1: Import necessary packages for data manipulation and visualization."
   ]
  },
  {
   "cell_type": "code",
   "execution_count": 4,
   "id": "ad4e470a-b6a6-4738-be28-a3e7c8ad75b9",
   "metadata": {},
   "outputs": [],
   "source": [
    "import pandas as pd # used to import pandas into notebook\n",
    "import matplotlib as mpl # used to import matplotlib into notebook"
   ]
  },
  {
   "cell_type": "markdown",
   "id": "2c152f0a-d74f-4870-9fce-7c00e2f068aa",
   "metadata": {},
   "source": [
    "## Step 2: loading the dataset from local to pandas to create separate dataset."
   ]
  },
  {
   "cell_type": "code",
   "execution_count": 5,
   "id": "65de060b-f7fd-47b0-915f-500ecb800029",
   "metadata": {},
   "outputs": [
    {
     "data": {
      "text/html": [
       "<div>\n",
       "<style scoped>\n",
       "    .dataframe tbody tr th:only-of-type {\n",
       "        vertical-align: middle;\n",
       "    }\n",
       "\n",
       "    .dataframe tbody tr th {\n",
       "        vertical-align: top;\n",
       "    }\n",
       "\n",
       "    .dataframe thead th {\n",
       "        text-align: right;\n",
       "    }\n",
       "</style>\n",
       "<table border=\"1\" class=\"dataframe\">\n",
       "  <thead>\n",
       "    <tr style=\"text-align: right;\">\n",
       "      <th></th>\n",
       "      <th>Release</th>\n",
       "      <th>Opening</th>\n",
       "      <th>Total Gross</th>\n",
       "      <th>% of Total</th>\n",
       "      <th>Theaters</th>\n",
       "      <th>Average</th>\n",
       "      <th>Date</th>\n",
       "      <th>Distributor</th>\n",
       "    </tr>\n",
       "  </thead>\n",
       "  <tbody>\n",
       "    <tr>\n",
       "      <th>0</th>\n",
       "      <td>Avengers: Endgame</td>\n",
       "      <td>357115007</td>\n",
       "      <td>858373000</td>\n",
       "      <td>41.6</td>\n",
       "      <td>4662</td>\n",
       "      <td>76601</td>\n",
       "      <td>26-04-2019</td>\n",
       "      <td>Walt Disney Studios Motion Pictures</td>\n",
       "    </tr>\n",
       "    <tr>\n",
       "      <th>1</th>\n",
       "      <td>Spider-Man: No Way Home</td>\n",
       "      <td>260138569</td>\n",
       "      <td>804793477</td>\n",
       "      <td>32.3</td>\n",
       "      <td>4336</td>\n",
       "      <td>59995</td>\n",
       "      <td>17-12-2021</td>\n",
       "      <td>Sony Pictures Releasing</td>\n",
       "    </tr>\n",
       "    <tr>\n",
       "      <th>2</th>\n",
       "      <td>Avengers: Infinity War</td>\n",
       "      <td>257698183</td>\n",
       "      <td>678815482</td>\n",
       "      <td>38.0</td>\n",
       "      <td>4474</td>\n",
       "      <td>57599</td>\n",
       "      <td>27-04-2018</td>\n",
       "      <td>Walt Disney Studios Motion Pictures</td>\n",
       "    </tr>\n",
       "    <tr>\n",
       "      <th>3</th>\n",
       "      <td>Star Wars: Episode VII - The Force Awakens</td>\n",
       "      <td>247966675</td>\n",
       "      <td>936662225</td>\n",
       "      <td>26.5</td>\n",
       "      <td>4134</td>\n",
       "      <td>59982</td>\n",
       "      <td>18-12-2015</td>\n",
       "      <td>Walt Disney Studios Motion Pictures</td>\n",
       "    </tr>\n",
       "    <tr>\n",
       "      <th>4</th>\n",
       "      <td>Star Wars: Episode VIII - The Last Jedi</td>\n",
       "      <td>220009584</td>\n",
       "      <td>620181382</td>\n",
       "      <td>35.5</td>\n",
       "      <td>4232</td>\n",
       "      <td>51987</td>\n",
       "      <td>15-12-2017</td>\n",
       "      <td>Walt Disney Studios Motion Pictures</td>\n",
       "    </tr>\n",
       "    <tr>\n",
       "      <th>...</th>\n",
       "      <td>...</td>\n",
       "      <td>...</td>\n",
       "      <td>...</td>\n",
       "      <td>...</td>\n",
       "      <td>...</td>\n",
       "      <td>...</td>\n",
       "      <td>...</td>\n",
       "      <td>...</td>\n",
       "    </tr>\n",
       "    <tr>\n",
       "      <th>995</th>\n",
       "      <td>The Hitman's Bodyguard</td>\n",
       "      <td>21384504</td>\n",
       "      <td>75468583</td>\n",
       "      <td>28.3</td>\n",
       "      <td>3377</td>\n",
       "      <td>6332</td>\n",
       "      <td>18-08-2017</td>\n",
       "      <td>Lionsgate Films</td>\n",
       "    </tr>\n",
       "    <tr>\n",
       "      <th>996</th>\n",
       "      <td>Angel Has Fallen</td>\n",
       "      <td>21380987</td>\n",
       "      <td>69030436</td>\n",
       "      <td>31.0</td>\n",
       "      <td>3286</td>\n",
       "      <td>6506</td>\n",
       "      <td>23-08-2019</td>\n",
       "      <td>Lionsgate Films</td>\n",
       "    </tr>\n",
       "    <tr>\n",
       "      <th>997</th>\n",
       "      <td>Ice Age: Collision Course</td>\n",
       "      <td>21373064</td>\n",
       "      <td>64063008</td>\n",
       "      <td>33.4</td>\n",
       "      <td>3992</td>\n",
       "      <td>5353</td>\n",
       "      <td>22-07-2016</td>\n",
       "      <td>Twentieth Century Fox</td>\n",
       "    </tr>\n",
       "    <tr>\n",
       "      <th>998</th>\n",
       "      <td>Why Did I Get Married?</td>\n",
       "      <td>21353789</td>\n",
       "      <td>55204525</td>\n",
       "      <td>38.7</td>\n",
       "      <td>2011</td>\n",
       "      <td>10618</td>\n",
       "      <td>12-10-2007</td>\n",
       "      <td>Lionsgate Films</td>\n",
       "    </tr>\n",
       "    <tr>\n",
       "      <th>999</th>\n",
       "      <td>Turbo</td>\n",
       "      <td>21312625</td>\n",
       "      <td>83028128</td>\n",
       "      <td>25.7</td>\n",
       "      <td>3806</td>\n",
       "      <td>5599</td>\n",
       "      <td>17-07-2013</td>\n",
       "      <td>Twentieth Century Fox</td>\n",
       "    </tr>\n",
       "  </tbody>\n",
       "</table>\n",
       "<p>1000 rows × 8 columns</p>\n",
       "</div>"
      ],
      "text/plain": [
       "                                        Release    Opening  Total Gross  \\\n",
       "0                             Avengers: Endgame  357115007    858373000   \n",
       "1                       Spider-Man: No Way Home  260138569    804793477   \n",
       "2                        Avengers: Infinity War  257698183    678815482   \n",
       "3    Star Wars: Episode VII - The Force Awakens  247966675    936662225   \n",
       "4       Star Wars: Episode VIII - The Last Jedi  220009584    620181382   \n",
       "..                                          ...        ...          ...   \n",
       "995                      The Hitman's Bodyguard   21384504     75468583   \n",
       "996                            Angel Has Fallen   21380987     69030436   \n",
       "997                   Ice Age: Collision Course   21373064     64063008   \n",
       "998                      Why Did I Get Married?   21353789     55204525   \n",
       "999                                       Turbo   21312625     83028128   \n",
       "\n",
       "     % of Total  Theaters  Average        Date  \\\n",
       "0          41.6      4662    76601  26-04-2019   \n",
       "1          32.3      4336    59995  17-12-2021   \n",
       "2          38.0      4474    57599  27-04-2018   \n",
       "3          26.5      4134    59982  18-12-2015   \n",
       "4          35.5      4232    51987  15-12-2017   \n",
       "..          ...       ...      ...         ...   \n",
       "995        28.3      3377     6332  18-08-2017   \n",
       "996        31.0      3286     6506  23-08-2019   \n",
       "997        33.4      3992     5353  22-07-2016   \n",
       "998        38.7      2011    10618  12-10-2007   \n",
       "999        25.7      3806     5599  17-07-2013   \n",
       "\n",
       "                             Distributor  \n",
       "0    Walt Disney Studios Motion Pictures  \n",
       "1                Sony Pictures Releasing  \n",
       "2    Walt Disney Studios Motion Pictures  \n",
       "3    Walt Disney Studios Motion Pictures  \n",
       "4    Walt Disney Studios Motion Pictures  \n",
       "..                                   ...  \n",
       "995                      Lionsgate Films  \n",
       "996                      Lionsgate Films  \n",
       "997                Twentieth Century Fox  \n",
       "998                      Lionsgate Films  \n",
       "999                Twentieth Century Fox  \n",
       "\n",
       "[1000 rows x 8 columns]"
      ]
     },
     "execution_count": 5,
     "metadata": {},
     "output_type": "execute_result"
    }
   ],
   "source": [
    "data = pd.read_csv('Top_Highest_Openings.csv',) # it reads the dataset from local\n",
    "data"
   ]
  },
  {
   "cell_type": "markdown",
   "id": "8ef853d5-3fb4-4a20-923c-bf10d4ba57fa",
   "metadata": {},
   "source": [
    "## Data.shape"
   ]
  },
  {
   "cell_type": "code",
   "execution_count": 16,
   "id": "14a50d6d-8376-45c0-9ed3-7e967ac1d30a",
   "metadata": {},
   "outputs": [
    {
     "name": "stdout",
     "output_type": "stream",
     "text": [
      "rows = 1000\n",
      "columns = 8\n"
     ]
    }
   ],
   "source": [
    "data.shape # it shows number of rows and columns present in the dataset\n",
    "print(\"rows =\",data.shape[0])\n",
    "print(\"columns =\",data.shape[1])"
   ]
  },
  {
   "cell_type": "markdown",
   "id": "84be9b43-570c-4b84-883d-b47830b2001a",
   "metadata": {},
   "source": [
    "## Step 3: Data View"
   ]
  },
  {
   "cell_type": "code",
   "execution_count": 17,
   "id": "15d8b5b5-3d78-457a-bfbe-bf1a5078a368",
   "metadata": {},
   "outputs": [
    {
     "data": {
      "text/plain": [
       "Index(['Release', 'Opening', 'Total Gross', '% of Total', 'Theaters',\n",
       "       'Average', 'Date', 'Distributor'],\n",
       "      dtype='object')"
      ]
     },
     "execution_count": 17,
     "metadata": {},
     "output_type": "execute_result"
    }
   ],
   "source": [
    "data.columns # shows all columns present in dataset"
   ]
  },
  {
   "cell_type": "markdown",
   "id": "e499d7e0-50ac-4d87-8f38-03b3445688ca",
   "metadata": {},
   "source": [
    "## Data.info()"
   ]
  },
  {
   "cell_type": "code",
   "execution_count": 6,
   "id": "68e2b36f-f53d-45f9-a48d-18593bf43b30",
   "metadata": {},
   "outputs": [
    {
     "name": "stdout",
     "output_type": "stream",
     "text": [
      "<class 'pandas.core.frame.DataFrame'>\n",
      "RangeIndex: 1000 entries, 0 to 999\n",
      "Data columns (total 8 columns):\n",
      " #   Column       Non-Null Count  Dtype  \n",
      "---  ------       --------------  -----  \n",
      " 0   Release      1000 non-null   object \n",
      " 1   Opening      1000 non-null   int64  \n",
      " 2   Total Gross  1000 non-null   int64  \n",
      " 3   % of Total   1000 non-null   float64\n",
      " 4   Theaters     1000 non-null   int64  \n",
      " 5   Average      1000 non-null   int64  \n",
      " 6   Date         1000 non-null   object \n",
      " 7   Distributor  1000 non-null   object \n",
      "dtypes: float64(1), int64(4), object(3)\n",
      "memory usage: 62.6+ KB\n"
     ]
    }
   ],
   "source": [
    "# it describes the information of dataset\n",
    "data.info()"
   ]
  },
  {
   "cell_type": "markdown",
   "id": "cca8b514-a88f-437c-9b13-8f3b32eb0ad6",
   "metadata": {},
   "source": [
    "## Data.head()"
   ]
  },
  {
   "cell_type": "code",
   "execution_count": 21,
   "id": "9842619e-d979-4aff-aff6-b5d70619cf9a",
   "metadata": {},
   "outputs": [
    {
     "data": {
      "text/html": [
       "<div>\n",
       "<style scoped>\n",
       "    .dataframe tbody tr th:only-of-type {\n",
       "        vertical-align: middle;\n",
       "    }\n",
       "\n",
       "    .dataframe tbody tr th {\n",
       "        vertical-align: top;\n",
       "    }\n",
       "\n",
       "    .dataframe thead th {\n",
       "        text-align: right;\n",
       "    }\n",
       "</style>\n",
       "<table border=\"1\" class=\"dataframe\">\n",
       "  <thead>\n",
       "    <tr style=\"text-align: right;\">\n",
       "      <th></th>\n",
       "      <th>Release</th>\n",
       "      <th>Opening</th>\n",
       "      <th>Total Gross</th>\n",
       "      <th>% of Total</th>\n",
       "      <th>Theaters</th>\n",
       "      <th>Average</th>\n",
       "      <th>Date</th>\n",
       "      <th>Distributor</th>\n",
       "    </tr>\n",
       "  </thead>\n",
       "  <tbody>\n",
       "    <tr>\n",
       "      <th>0</th>\n",
       "      <td>Avengers: Endgame</td>\n",
       "      <td>357115007</td>\n",
       "      <td>858373000</td>\n",
       "      <td>41.6</td>\n",
       "      <td>4662</td>\n",
       "      <td>76601</td>\n",
       "      <td>26-04-2019</td>\n",
       "      <td>Walt Disney Studios Motion Pictures</td>\n",
       "    </tr>\n",
       "    <tr>\n",
       "      <th>1</th>\n",
       "      <td>Spider-Man: No Way Home</td>\n",
       "      <td>260138569</td>\n",
       "      <td>804793477</td>\n",
       "      <td>32.3</td>\n",
       "      <td>4336</td>\n",
       "      <td>59995</td>\n",
       "      <td>17-12-2021</td>\n",
       "      <td>Sony Pictures Releasing</td>\n",
       "    </tr>\n",
       "    <tr>\n",
       "      <th>2</th>\n",
       "      <td>Avengers: Infinity War</td>\n",
       "      <td>257698183</td>\n",
       "      <td>678815482</td>\n",
       "      <td>38.0</td>\n",
       "      <td>4474</td>\n",
       "      <td>57599</td>\n",
       "      <td>27-04-2018</td>\n",
       "      <td>Walt Disney Studios Motion Pictures</td>\n",
       "    </tr>\n",
       "    <tr>\n",
       "      <th>3</th>\n",
       "      <td>Star Wars: Episode VII - The Force Awakens</td>\n",
       "      <td>247966675</td>\n",
       "      <td>936662225</td>\n",
       "      <td>26.5</td>\n",
       "      <td>4134</td>\n",
       "      <td>59982</td>\n",
       "      <td>18-12-2015</td>\n",
       "      <td>Walt Disney Studios Motion Pictures</td>\n",
       "    </tr>\n",
       "    <tr>\n",
       "      <th>4</th>\n",
       "      <td>Star Wars: Episode VIII - The Last Jedi</td>\n",
       "      <td>220009584</td>\n",
       "      <td>620181382</td>\n",
       "      <td>35.5</td>\n",
       "      <td>4232</td>\n",
       "      <td>51987</td>\n",
       "      <td>15-12-2017</td>\n",
       "      <td>Walt Disney Studios Motion Pictures</td>\n",
       "    </tr>\n",
       "  </tbody>\n",
       "</table>\n",
       "</div>"
      ],
      "text/plain": [
       "                                      Release    Opening  Total Gross  \\\n",
       "0                           Avengers: Endgame  357115007    858373000   \n",
       "1                     Spider-Man: No Way Home  260138569    804793477   \n",
       "2                      Avengers: Infinity War  257698183    678815482   \n",
       "3  Star Wars: Episode VII - The Force Awakens  247966675    936662225   \n",
       "4     Star Wars: Episode VIII - The Last Jedi  220009584    620181382   \n",
       "\n",
       "   % of Total  Theaters  Average        Date  \\\n",
       "0        41.6      4662    76601  26-04-2019   \n",
       "1        32.3      4336    59995  17-12-2021   \n",
       "2        38.0      4474    57599  27-04-2018   \n",
       "3        26.5      4134    59982  18-12-2015   \n",
       "4        35.5      4232    51987  15-12-2017   \n",
       "\n",
       "                           Distributor  \n",
       "0  Walt Disney Studios Motion Pictures  \n",
       "1              Sony Pictures Releasing  \n",
       "2  Walt Disney Studios Motion Pictures  \n",
       "3  Walt Disney Studios Motion Pictures  \n",
       "4  Walt Disney Studios Motion Pictures  "
      ]
     },
     "execution_count": 21,
     "metadata": {},
     "output_type": "execute_result"
    }
   ],
   "source": [
    "# it displays the top 5 rows by default head()\n",
    "data.head()"
   ]
  },
  {
   "cell_type": "markdown",
   "id": "7000ca57-be50-4e45-81cf-01d120828e84",
   "metadata": {},
   "source": [
    "## Data.tail()"
   ]
  },
  {
   "cell_type": "code",
   "execution_count": 7,
   "id": "6583919f-5fd8-4006-9d77-8b2ba608d8d0",
   "metadata": {},
   "outputs": [
    {
     "data": {
      "text/html": [
       "<div>\n",
       "<style scoped>\n",
       "    .dataframe tbody tr th:only-of-type {\n",
       "        vertical-align: middle;\n",
       "    }\n",
       "\n",
       "    .dataframe tbody tr th {\n",
       "        vertical-align: top;\n",
       "    }\n",
       "\n",
       "    .dataframe thead th {\n",
       "        text-align: right;\n",
       "    }\n",
       "</style>\n",
       "<table border=\"1\" class=\"dataframe\">\n",
       "  <thead>\n",
       "    <tr style=\"text-align: right;\">\n",
       "      <th></th>\n",
       "      <th>Release</th>\n",
       "      <th>Opening</th>\n",
       "      <th>Total Gross</th>\n",
       "      <th>% of Total</th>\n",
       "      <th>Theaters</th>\n",
       "      <th>Average</th>\n",
       "      <th>Date</th>\n",
       "      <th>Distributor</th>\n",
       "    </tr>\n",
       "  </thead>\n",
       "  <tbody>\n",
       "    <tr>\n",
       "      <th>995</th>\n",
       "      <td>The Hitman's Bodyguard</td>\n",
       "      <td>21384504</td>\n",
       "      <td>75468583</td>\n",
       "      <td>28.3</td>\n",
       "      <td>3377</td>\n",
       "      <td>6332</td>\n",
       "      <td>18-08-2017</td>\n",
       "      <td>Lionsgate Films</td>\n",
       "    </tr>\n",
       "    <tr>\n",
       "      <th>996</th>\n",
       "      <td>Angel Has Fallen</td>\n",
       "      <td>21380987</td>\n",
       "      <td>69030436</td>\n",
       "      <td>31.0</td>\n",
       "      <td>3286</td>\n",
       "      <td>6506</td>\n",
       "      <td>23-08-2019</td>\n",
       "      <td>Lionsgate Films</td>\n",
       "    </tr>\n",
       "    <tr>\n",
       "      <th>997</th>\n",
       "      <td>Ice Age: Collision Course</td>\n",
       "      <td>21373064</td>\n",
       "      <td>64063008</td>\n",
       "      <td>33.4</td>\n",
       "      <td>3992</td>\n",
       "      <td>5353</td>\n",
       "      <td>22-07-2016</td>\n",
       "      <td>Twentieth Century Fox</td>\n",
       "    </tr>\n",
       "    <tr>\n",
       "      <th>998</th>\n",
       "      <td>Why Did I Get Married?</td>\n",
       "      <td>21353789</td>\n",
       "      <td>55204525</td>\n",
       "      <td>38.7</td>\n",
       "      <td>2011</td>\n",
       "      <td>10618</td>\n",
       "      <td>12-10-2007</td>\n",
       "      <td>Lionsgate Films</td>\n",
       "    </tr>\n",
       "    <tr>\n",
       "      <th>999</th>\n",
       "      <td>Turbo</td>\n",
       "      <td>21312625</td>\n",
       "      <td>83028128</td>\n",
       "      <td>25.7</td>\n",
       "      <td>3806</td>\n",
       "      <td>5599</td>\n",
       "      <td>17-07-2013</td>\n",
       "      <td>Twentieth Century Fox</td>\n",
       "    </tr>\n",
       "  </tbody>\n",
       "</table>\n",
       "</div>"
      ],
      "text/plain": [
       "                       Release   Opening  Total Gross  % of Total  Theaters  \\\n",
       "995     The Hitman's Bodyguard  21384504     75468583        28.3      3377   \n",
       "996           Angel Has Fallen  21380987     69030436        31.0      3286   \n",
       "997  Ice Age: Collision Course  21373064     64063008        33.4      3992   \n",
       "998     Why Did I Get Married?  21353789     55204525        38.7      2011   \n",
       "999                      Turbo  21312625     83028128        25.7      3806   \n",
       "\n",
       "     Average        Date            Distributor  \n",
       "995     6332  18-08-2017        Lionsgate Films  \n",
       "996     6506  23-08-2019        Lionsgate Films  \n",
       "997     5353  22-07-2016  Twentieth Century Fox  \n",
       "998    10618  12-10-2007        Lionsgate Films  \n",
       "999     5599  17-07-2013  Twentieth Century Fox  "
      ]
     },
     "execution_count": 7,
     "metadata": {},
     "output_type": "execute_result"
    }
   ],
   "source": [
    "# it displays bottom 5 rows by default tail()\n",
    "data.tail()"
   ]
  },
  {
   "cell_type": "markdown",
   "id": "b333b18b-a35d-442b-abc2-84bc6e030931",
   "metadata": {},
   "source": [
    "## Data.describe"
   ]
  },
  {
   "cell_type": "code",
   "execution_count": 20,
   "id": "1bd21c12-688d-425f-9e3e-62c8acd62fe5",
   "metadata": {},
   "outputs": [
    {
     "data": {
      "text/plain": [
       "<bound method NDFrame.describe of                                         Release    Opening  Total Gross  \\\n",
       "0                             Avengers: Endgame  357115007    858373000   \n",
       "1                       Spider-Man: No Way Home  260138569    804793477   \n",
       "2                        Avengers: Infinity War  257698183    678815482   \n",
       "3    Star Wars: Episode VII - The Force Awakens  247966675    936662225   \n",
       "4       Star Wars: Episode VIII - The Last Jedi  220009584    620181382   \n",
       "..                                          ...        ...          ...   \n",
       "995                      The Hitman's Bodyguard   21384504     75468583   \n",
       "996                            Angel Has Fallen   21380987     69030436   \n",
       "997                   Ice Age: Collision Course   21373064     64063008   \n",
       "998                      Why Did I Get Married?   21353789     55204525   \n",
       "999                                       Turbo   21312625     83028128   \n",
       "\n",
       "     % of Total  Theaters  Average        Date  \\\n",
       "0          41.6      4662    76601  26-04-2019   \n",
       "1          32.3      4336    59995  17-12-2021   \n",
       "2          38.0      4474    57599  27-04-2018   \n",
       "3          26.5      4134    59982  18-12-2015   \n",
       "4          35.5      4232    51987  15-12-2017   \n",
       "..          ...       ...      ...         ...   \n",
       "995        28.3      3377     6332  18-08-2017   \n",
       "996        31.0      3286     6506  23-08-2019   \n",
       "997        33.4      3992     5353  22-07-2016   \n",
       "998        38.7      2011    10618  12-10-2007   \n",
       "999        25.7      3806     5599  17-07-2013   \n",
       "\n",
       "                             Distributor  \n",
       "0    Walt Disney Studios Motion Pictures  \n",
       "1                Sony Pictures Releasing  \n",
       "2    Walt Disney Studios Motion Pictures  \n",
       "3    Walt Disney Studios Motion Pictures  \n",
       "4    Walt Disney Studios Motion Pictures  \n",
       "..                                   ...  \n",
       "995                      Lionsgate Films  \n",
       "996                      Lionsgate Films  \n",
       "997                Twentieth Century Fox  \n",
       "998                      Lionsgate Films  \n",
       "999                Twentieth Century Fox  \n",
       "\n",
       "[1000 rows x 8 columns]>"
      ]
     },
     "execution_count": 20,
     "metadata": {},
     "output_type": "execute_result"
    }
   ],
   "source": [
    "# it describes the data in dataset\n",
    "data.describe"
   ]
  },
  {
   "cell_type": "markdown",
   "id": "d0ce3f30-7f21-4508-836f-c67af66e4ef1",
   "metadata": {},
   "source": [
    "## Step 4: Data Cleaning/Manipulation/Data Filtering"
   ]
  },
  {
   "cell_type": "markdown",
   "id": "ad9ce007-7186-453c-8446-ce91dd3ba461",
   "metadata": {},
   "source": [
    "## Data Cleaning"
   ]
  },
  {
   "cell_type": "code",
   "execution_count": 157,
   "id": "483c70af-7239-492e-bebe-ffeb3e76939b",
   "metadata": {},
   "outputs": [
    {
     "data": {
      "text/plain": [
       "Release        0\n",
       "Opening        0\n",
       "Total Gross    0\n",
       "% of Total     0\n",
       "Theaters       0\n",
       "Average        0\n",
       "Date           0\n",
       "Distributor    0\n",
       "dtype: int64"
      ]
     },
     "execution_count": 157,
     "metadata": {},
     "output_type": "execute_result"
    }
   ],
   "source": [
    "# checking for missing values in the dataset\n",
    "data.isnull().sum()"
   ]
  },
  {
   "cell_type": "code",
   "execution_count": null,
   "id": "b812ba32-7697-4579-b16c-d0b2ba5d5d55",
   "metadata": {},
   "outputs": [],
   "source": []
  },
  {
   "cell_type": "markdown",
   "id": "6c7b61c1-c5a0-4fff-a7ee-202204875d48",
   "metadata": {},
   "source": [
    "## Data.count()"
   ]
  },
  {
   "cell_type": "code",
   "execution_count": 22,
   "id": "3ba05a15-ed2e-43a3-b3b5-4c63c1f7c964",
   "metadata": {},
   "outputs": [
    {
     "data": {
      "text/plain": [
       "Release        1000\n",
       "Opening        1000\n",
       "Total Gross    1000\n",
       "% of Total     1000\n",
       "Theaters       1000\n",
       "Average        1000\n",
       "Date           1000\n",
       "Distributor    1000\n",
       "dtype: int64"
      ]
     },
     "execution_count": 22,
     "metadata": {},
     "output_type": "execute_result"
    }
   ],
   "source": [
    "# it gives the total count of data present in dataset\n",
    "data.count()"
   ]
  },
  {
   "cell_type": "markdown",
   "id": "9522eaa1-00a9-4b8e-b0b3-9f2bf2fc0929",
   "metadata": {},
   "source": [
    "## Data.value_counts"
   ]
  },
  {
   "cell_type": "code",
   "execution_count": 23,
   "id": "be13c2d9-bd89-4efd-b1df-62dac260fea3",
   "metadata": {},
   "outputs": [
    {
     "data": {
      "text/plain": [
       "<bound method DataFrame.value_counts of                                         Release    Opening  Total Gross  \\\n",
       "0                             Avengers: Endgame  357115007    858373000   \n",
       "1                       Spider-Man: No Way Home  260138569    804793477   \n",
       "2                        Avengers: Infinity War  257698183    678815482   \n",
       "3    Star Wars: Episode VII - The Force Awakens  247966675    936662225   \n",
       "4       Star Wars: Episode VIII - The Last Jedi  220009584    620181382   \n",
       "..                                          ...        ...          ...   \n",
       "995                      The Hitman's Bodyguard   21384504     75468583   \n",
       "996                            Angel Has Fallen   21380987     69030436   \n",
       "997                   Ice Age: Collision Course   21373064     64063008   \n",
       "998                      Why Did I Get Married?   21353789     55204525   \n",
       "999                                       Turbo   21312625     83028128   \n",
       "\n",
       "     % of Total  Theaters  Average        Date  \\\n",
       "0          41.6      4662    76601  26-04-2019   \n",
       "1          32.3      4336    59995  17-12-2021   \n",
       "2          38.0      4474    57599  27-04-2018   \n",
       "3          26.5      4134    59982  18-12-2015   \n",
       "4          35.5      4232    51987  15-12-2017   \n",
       "..          ...       ...      ...         ...   \n",
       "995        28.3      3377     6332  18-08-2017   \n",
       "996        31.0      3286     6506  23-08-2019   \n",
       "997        33.4      3992     5353  22-07-2016   \n",
       "998        38.7      2011    10618  12-10-2007   \n",
       "999        25.7      3806     5599  17-07-2013   \n",
       "\n",
       "                             Distributor  \n",
       "0    Walt Disney Studios Motion Pictures  \n",
       "1                Sony Pictures Releasing  \n",
       "2    Walt Disney Studios Motion Pictures  \n",
       "3    Walt Disney Studios Motion Pictures  \n",
       "4    Walt Disney Studios Motion Pictures  \n",
       "..                                   ...  \n",
       "995                      Lionsgate Films  \n",
       "996                      Lionsgate Films  \n",
       "997                Twentieth Century Fox  \n",
       "998                      Lionsgate Films  \n",
       "999                Twentieth Century Fox  \n",
       "\n",
       "[1000 rows x 8 columns]>"
      ]
     },
     "execution_count": 23,
     "metadata": {},
     "output_type": "execute_result"
    }
   ],
   "source": [
    "# it counts the data values in dataset\n",
    "data.value_counts"
   ]
  },
  {
   "cell_type": "markdown",
   "id": "15b05b24-cead-4c41-b5bd-d6b4d3e3a15e",
   "metadata": {},
   "source": [
    "## Data.unique()"
   ]
  },
  {
   "cell_type": "code",
   "execution_count": 24,
   "id": "5265639d-c295-4886-bff4-f03f4ac51cc1",
   "metadata": {},
   "outputs": [
    {
     "data": {
      "text/plain": [
       "array([4662, 4336, 4474, 4134, 4232, 4274, 4349, 4020, 4725, 4276, 4534,\n",
       "       4410, 4396, 4226, 4406, 4210, 4253, 4375, 4242, 4243, 4404, 4366,\n",
       "       4163, 4157, 4310, 4137, 4252, 4475, 4004, 4347, 4343, 4676, 4024,\n",
       "       4070, 4061, 4133, 4305, 4202, 4417, 4255, 3558, 4440, 4380, 4735,\n",
       "       4125, 4103, 4080, 4151, 4122, 4575, 4313, 4450, 4348, 4207, 3728,\n",
       "       4301, 3615, 4362, 4028, 4234, 3661, 4391, 4345, 4370, 4165, 3690,\n",
       "       3858, 4175, 4260, 4233, 4105, 4088, 3658, 4374, 4320, 3938, 4051,\n",
       "       3855, 3952, 4634, 3603, 4324, 4476, 4570, 3996, 3946, 3672, 4155,\n",
       "       4225, 4071, 3505, 3682, 4152, 3644, 3841, 3741, 3646, 3882, 4099,\n",
       "       4045, 4381, 3043, 3997, 3610, 4160, 4250, 3161, 3861, 3675, 3912,\n",
       "       4325, 3606, 4285, 3735, 3452, 3928, 4206, 4300, 3849, 3827, 4144,\n",
       "       3922, 3903, 3613, 3703, 3967, 4529, 3281, 4090, 3461, 3103, 4359,\n",
       "       4011, 3933, 3929, 3374, 3729, 3868, 4179, 3419, 3948, 3660, 3473,\n",
       "       3775, 3425, 3500, 3401, 3766, 3964, 3483, 3845, 4141, 3451, 3118,\n",
       "       4046, 4402, 3607, 4164, 4115, 4150, 3955, 3616, 3404, 3715, 3908,\n",
       "       4468, 2970, 4056, 3992, 3792, 3965, 3237, 3626, 3622, 4318, 4386,\n",
       "       3777, 3678, 3846, 4600, 4258, 4114, 2757, 3985, 3264, 4104, 4227,\n",
       "       4026, 3214, 4007, 3959, 4167, 3230, 4035, 3653, 3856, 3306, 3285,\n",
       "       3850, 3875, 3476, 4022, 3665, 4017, 3773, 3761, 3770, 3602, 3575,\n",
       "       3663, 3956, 3641, 4407, 3611, 3127, 4259, 3312, 3648, 4327, 3936,\n",
       "       4248, 3025, 3239, 3831, 4096, 3447, 3876, 4256, 4217, 3816, 3924,\n",
       "       2842, 3321, 4065, 3165, 3420, 3557, 3708, 2470, 3020, 4000, 3396,\n",
       "       3175, 3987, 3434, 3730, 3720, 3408, 3081, 3424, 3778, 2882, 3508,\n",
       "       3568, 3535, 3705, 3752, 3279, 3700, 3502, 3754, 3173, 4108, 4054,\n",
       "       3308, 3925, 3634, 4016, 3726, 3561, 4131, 3359, 3314, 3803, 3940,\n",
       "       2404, 3411, 4561, 3269, 3881, 3710, 4060, 3186, 3316, 3527, 3518,\n",
       "       4030, 3963, 3944, 2644, 3012, 3702, 4118, 3619, 3063, 3470, 3954,\n",
       "       3832, 4069, 3776, 3785, 3475, 3897, 4267, 3310, 3504, 4275, 4315,\n",
       "       4055, 3567, 3054, 3210, 3686, 2934, 3530, 3349, 3242, 3587, 2912,\n",
       "       3551, 4208, 3623, 2903, 3555, 4145, 3027, 3804, 2663, 3491, 3407,\n",
       "       2958, 3156, 3659, 2991, 2414, 4130, 2032, 3216, 3105, 3534, 3719,\n",
       "       2194, 3760, 3343, 3169, 3471, 3693, 3049, 3119, 3037, 2628, 3901,\n",
       "       3654, 3749, 3038, 3591, 3287, 2664, 3826, 3594, 3070, 3290, 3245,\n",
       "       2930, 3181, 4003, 4268, 4203, 3257, 3271, 3911, 3768, 3462, 4059,\n",
       "       3464, 3395, 3932, 3745, 3075, 3917, 2652, 3459, 3579, 3014, 3275,\n",
       "       3231, 3185, 2919, 3202, 3783, 3790, 3357, 3750, 2604, 3480, 3121,\n",
       "       3204, 3765, 3565, 3154, 3444, 3503, 3388, 3612, 2104, 3410, 4101,\n",
       "       3001, 3293, 3441, 3417, 3651, 3163, 3379, 3813, 3191, 3017, 3332,\n",
       "       3158, 3525, 3317, 3270, 2938, 3467, 3674, 3141, 3000, 3495, 3005,\n",
       "       2676, 3136, 3236, 3110, 4303, 2536, 3117, 4001, 2285, 2015, 3056,\n",
       "       3167, 3584, 3442, 2794, 3545, 2808, 2781, 3172, 2510, 3250, 3980,\n",
       "       2948, 3972, 3372, 3188, 4236, 2638, 3721, 3111, 4058, 3355, 2707,\n",
       "       3604, 3344, 3934, 3112, 2925, 3337, 3336, 3212, 3144, 2274, 3183,\n",
       "       2949, 3697, 3064, 2315, 2796, 3222, 3528, 2845, 3356, 3906, 2591,\n",
       "       2222,  683, 2801, 2440, 3079, 3445, 3094, 3536, 2812, 2871, 3131,\n",
       "       2756, 2463, 2491, 2986, 3548, 3560, 2969, 3113, 3685, 3509, 3098,\n",
       "       2708, 3791, 3011, 2330, 2629, 3010, 2024, 2694, 3620, 3053, 2981,\n",
       "       3060, 3683, 4224, 4357, 3664, 3870, 2805, 3284, 3595, 3006, 2813,\n",
       "       2498, 3755, 3116, 2410, 2327, 3215, 2155, 2225, 3440, 3904, 3510,\n",
       "       2457, 3016, 3711, 4086, 3740, 2777, 3350, 3412, 3059, 2818, 2774,\n",
       "       3090, 3522, 3490, 3341, 3539, 2674, 2614, 2514, 2260, 3091, 2647,\n",
       "       3040, 2848, 1865, 2849, 2976, 3261, 2411, 2984, 3342, 3706, 3370,\n",
       "       3298, 3096, 2847, 2650, 3153, 3003, 3681, 3428, 2782, 2814, 2442,\n",
       "       3758, 3763, 3207, 2988, 3468, 2641, 2745, 2161, 3203, 3592, 3205,\n",
       "       3104, 2852, 3384,  837, 2471, 3260, 2956, 3051, 3472, 2326, 2918,\n",
       "       3507, 4002, 2667, 2534, 3149, 2221, 2368, 3319, 3021, 3995, 2802,\n",
       "       2253, 3365, 2369, 2971, 3601, 2060, 3764, 3069, 2115, 2393, 2006,\n",
       "       2994, 2197, 1687, 3078, 3334, 2712, 2807, 3413, 3101, 2392, 2288,\n",
       "       3871, 2742, 3725, 3438, 3782, 1884, 3553, 3047, 2669, 3036, 3391,\n",
       "       2649, 2933, 4037, 4075, 3402, 3585, 3039, 1595, 2839, 3057, 3187,\n",
       "       2863, 3122, 2908, 2175, 2711, 3019, 2524, 3787, 3400, 2824, 2261,\n",
       "       2648, 3102, 2317, 3367, 3723, 4008,  868, 2861, 2923, 3633, 2340,\n",
       "       3255, 2828, 3854, 3150, 3833, 3501, 2911, 2885, 3323, 2255, 2230,\n",
       "       3282, 2621, 3074, 3650, 3073, 2421, 3628, 3072, 3481, 3028, 2547,\n",
       "       2360, 2659, 3082, 3002, 1002, 2732, 4314, 3780, 2537, 2758, 3989,\n",
       "       2509, 2980, 2888, 3007, 3240, 2944, 3645, 3139, 2332, 2515, 2417,\n",
       "       3155, 2770, 2655, 2927, 2771, 3061, 3232, 2961, 2856, 3892, 2954,\n",
       "       2525, 3077, 3174, 2887, 1797, 2620, 2907, 3083, 3569, 2111, 1483,\n",
       "       2051, 2747, 2539, 2915, 2507, 2654, 2337, 2134, 3550, 2047, 2533,\n",
       "       2999, 3125, 3465, 3393, 3192, 3223, 3151, 3377, 3286, 2011, 3806],\n",
       "      dtype=int64)"
      ]
     },
     "execution_count": 24,
     "metadata": {},
     "output_type": "execute_result"
    }
   ],
   "source": [
    "# it gives the unique values present in specified column\n",
    "data['Theaters'].unique()"
   ]
  },
  {
   "cell_type": "markdown",
   "id": "33ddac30-31a8-49c1-a180-cb2af2a650cf",
   "metadata": {},
   "source": [
    "## Data.dropna"
   ]
  },
  {
   "cell_type": "code",
   "execution_count": 8,
   "id": "8e4d49a7-26fe-49e9-b68d-bd5aacb4907d",
   "metadata": {},
   "outputs": [
    {
     "data": {
      "text/plain": [
       "<bound method DataFrame.dropna of                                         Release    Opening  Total Gross  \\\n",
       "0                             Avengers: Endgame  357115007    858373000   \n",
       "1                       Spider-Man: No Way Home  260138569    804793477   \n",
       "2                        Avengers: Infinity War  257698183    678815482   \n",
       "3    Star Wars: Episode VII - The Force Awakens  247966675    936662225   \n",
       "4       Star Wars: Episode VIII - The Last Jedi  220009584    620181382   \n",
       "..                                          ...        ...          ...   \n",
       "995                      The Hitman's Bodyguard   21384504     75468583   \n",
       "996                            Angel Has Fallen   21380987     69030436   \n",
       "997                   Ice Age: Collision Course   21373064     64063008   \n",
       "998                      Why Did I Get Married?   21353789     55204525   \n",
       "999                                       Turbo   21312625     83028128   \n",
       "\n",
       "     % of Total  Theaters  Average        Date  \\\n",
       "0          41.6      4662    76601  26-04-2019   \n",
       "1          32.3      4336    59995  17-12-2021   \n",
       "2          38.0      4474    57599  27-04-2018   \n",
       "3          26.5      4134    59982  18-12-2015   \n",
       "4          35.5      4232    51987  15-12-2017   \n",
       "..          ...       ...      ...         ...   \n",
       "995        28.3      3377     6332  18-08-2017   \n",
       "996        31.0      3286     6506  23-08-2019   \n",
       "997        33.4      3992     5353  22-07-2016   \n",
       "998        38.7      2011    10618  12-10-2007   \n",
       "999        25.7      3806     5599  17-07-2013   \n",
       "\n",
       "                             Distributor  \n",
       "0    Walt Disney Studios Motion Pictures  \n",
       "1                Sony Pictures Releasing  \n",
       "2    Walt Disney Studios Motion Pictures  \n",
       "3    Walt Disney Studios Motion Pictures  \n",
       "4    Walt Disney Studios Motion Pictures  \n",
       "..                                   ...  \n",
       "995                      Lionsgate Films  \n",
       "996                      Lionsgate Films  \n",
       "997                Twentieth Century Fox  \n",
       "998                      Lionsgate Films  \n",
       "999                Twentieth Century Fox  \n",
       "\n",
       "[1000 rows x 8 columns]>"
      ]
     },
     "execution_count": 8,
     "metadata": {},
     "output_type": "execute_result"
    }
   ],
   "source": [
    "# it is used to remove null values from dataset\n",
    "data.dropna"
   ]
  },
  {
   "cell_type": "markdown",
   "id": "be496fa9-bf90-4216-8961-70e44b124409",
   "metadata": {},
   "source": [
    "## data.shape"
   ]
  },
  {
   "cell_type": "code",
   "execution_count": 29,
   "id": "43977bfa-b27e-4938-9135-d6efc4ce637c",
   "metadata": {},
   "outputs": [
    {
     "data": {
      "text/plain": [
       "0      False\n",
       "1      False\n",
       "2       True\n",
       "3       True\n",
       "4       True\n",
       "       ...  \n",
       "995     True\n",
       "996     True\n",
       "997     True\n",
       "998     True\n",
       "999     True\n",
       "Name: Distributor, Length: 1000, dtype: bool"
      ]
     },
     "execution_count": 29,
     "metadata": {},
     "output_type": "execute_result"
    }
   ],
   "source": [
    "data['Distributor'].duplicated() # displays the duplicated value in dataset"
   ]
  },
  {
   "cell_type": "markdown",
   "id": "23bc2606-6eb4-4e81-9226-a5b11821ed69",
   "metadata": {},
   "source": [
    "## Data Sorting/Searching/validation"
   ]
  },
  {
   "cell_type": "code",
   "execution_count": 159,
   "id": "b7c2e2dc-551d-43fc-82f1-580da84c7a2b",
   "metadata": {},
   "outputs": [
    {
     "data": {
      "text/plain": [
       "0    Walt Disney Studios Motion Pictures\n",
       "1                Sony Pictures Releasing\n",
       "2    Walt Disney Studios Motion Pictures\n",
       "3    Walt Disney Studios Motion Pictures\n",
       "4    Walt Disney Studios Motion Pictures\n",
       "5                     Universal Pictures\n",
       "6    Walt Disney Studios Motion Pictures\n",
       "7    Walt Disney Studios Motion Pictures\n",
       "8    Walt Disney Studios Motion Pictures\n",
       "9    Walt Disney Studios Motion Pictures\n",
       "Name: Distributor, dtype: object"
      ]
     },
     "execution_count": 159,
     "metadata": {},
     "output_type": "execute_result"
    }
   ],
   "source": [
    "# displays Distributor data in specified manner\n",
    "data['Distributor'].head(10)"
   ]
  },
  {
   "cell_type": "code",
   "execution_count": 162,
   "id": "73e2ea21-aba8-4693-982d-82ea5fb4fe37",
   "metadata": {},
   "outputs": [
    {
     "data": {
      "text/html": [
       "<div>\n",
       "<style scoped>\n",
       "    .dataframe tbody tr th:only-of-type {\n",
       "        vertical-align: middle;\n",
       "    }\n",
       "\n",
       "    .dataframe tbody tr th {\n",
       "        vertical-align: top;\n",
       "    }\n",
       "\n",
       "    .dataframe thead th {\n",
       "        text-align: right;\n",
       "    }\n",
       "</style>\n",
       "<table border=\"1\" class=\"dataframe\">\n",
       "  <thead>\n",
       "    <tr style=\"text-align: right;\">\n",
       "      <th></th>\n",
       "      <th>Release</th>\n",
       "      <th>Opening</th>\n",
       "      <th>Total Gross</th>\n",
       "      <th>% of Total</th>\n",
       "      <th>Theaters</th>\n",
       "      <th>Average</th>\n",
       "      <th>Date</th>\n",
       "      <th>Distributor</th>\n",
       "    </tr>\n",
       "  </thead>\n",
       "  <tbody>\n",
       "    <tr>\n",
       "      <th>807</th>\n",
       "      <td>10 Cloverfield Lane</td>\n",
       "      <td>24727437</td>\n",
       "      <td>72082998</td>\n",
       "      <td>34.3</td>\n",
       "      <td>3391</td>\n",
       "      <td>7292</td>\n",
       "      <td>11-03-2016</td>\n",
       "      <td>Paramount Pictures</td>\n",
       "    </tr>\n",
       "    <tr>\n",
       "      <th>474</th>\n",
       "      <td>10,000 BC</td>\n",
       "      <td>35867488</td>\n",
       "      <td>94784201</td>\n",
       "      <td>37.8</td>\n",
       "      <td>3410</td>\n",
       "      <td>10518</td>\n",
       "      <td>07-03-2008</td>\n",
       "      <td>Warner Bros.</td>\n",
       "    </tr>\n",
       "    <tr>\n",
       "      <th>527</th>\n",
       "      <td>101 Dalmatians</td>\n",
       "      <td>33504025</td>\n",
       "      <td>136189294</td>\n",
       "      <td>24.6</td>\n",
       "      <td>2794</td>\n",
       "      <td>11991</td>\n",
       "      <td>27-11-1996</td>\n",
       "      <td>Walt Disney Studios Motion Pictures</td>\n",
       "    </tr>\n",
       "    <tr>\n",
       "      <th>861</th>\n",
       "      <td>17 Again</td>\n",
       "      <td>23722310</td>\n",
       "      <td>64167069</td>\n",
       "      <td>37.0</td>\n",
       "      <td>3255</td>\n",
       "      <td>7287</td>\n",
       "      <td>17-04-2009</td>\n",
       "      <td>Warner Bros.</td>\n",
       "    </tr>\n",
       "    <tr>\n",
       "      <th>280</th>\n",
       "      <td>2 Fast 2 Furious</td>\n",
       "      <td>50472480</td>\n",
       "      <td>127154901</td>\n",
       "      <td>39.7</td>\n",
       "      <td>3408</td>\n",
       "      <td>14810</td>\n",
       "      <td>06-06-2003</td>\n",
       "      <td>Universal Pictures</td>\n",
       "    </tr>\n",
       "    <tr>\n",
       "      <th>...</th>\n",
       "      <td>...</td>\n",
       "      <td>...</td>\n",
       "      <td>...</td>\n",
       "      <td>...</td>\n",
       "      <td>...</td>\n",
       "      <td>...</td>\n",
       "      <td>...</td>\n",
       "      <td>...</td>\n",
       "    </tr>\n",
       "    <tr>\n",
       "      <th>986</th>\n",
       "      <td>You, Me and Dupree</td>\n",
       "      <td>21525560</td>\n",
       "      <td>75628110</td>\n",
       "      <td>28.5</td>\n",
       "      <td>3131</td>\n",
       "      <td>6874</td>\n",
       "      <td>14-07-2006</td>\n",
       "      <td>Universal Pictures</td>\n",
       "    </tr>\n",
       "    <tr>\n",
       "      <th>806</th>\n",
       "      <td>Zombieland</td>\n",
       "      <td>24733155</td>\n",
       "      <td>75590286</td>\n",
       "      <td>32.7</td>\n",
       "      <td>3036</td>\n",
       "      <td>8146</td>\n",
       "      <td>02-10-2009</td>\n",
       "      <td>Sony Pictures Releasing</td>\n",
       "    </tr>\n",
       "    <tr>\n",
       "      <th>728</th>\n",
       "      <td>Zombieland: Double Tap</td>\n",
       "      <td>26803104</td>\n",
       "      <td>73123082</td>\n",
       "      <td>36.6</td>\n",
       "      <td>3468</td>\n",
       "      <td>7728</td>\n",
       "      <td>18-10-2019</td>\n",
       "      <td>Sony Pictures Releasing</td>\n",
       "    </tr>\n",
       "    <tr>\n",
       "      <th>129</th>\n",
       "      <td>Zootopia</td>\n",
       "      <td>75063401</td>\n",
       "      <td>341268248</td>\n",
       "      <td>22.0</td>\n",
       "      <td>3827</td>\n",
       "      <td>19614</td>\n",
       "      <td>04-03-2016</td>\n",
       "      <td>Walt Disney Studios Motion Pictures</td>\n",
       "    </tr>\n",
       "    <tr>\n",
       "      <th>342</th>\n",
       "      <td>xXx</td>\n",
       "      <td>44506103</td>\n",
       "      <td>142109382</td>\n",
       "      <td>31.3</td>\n",
       "      <td>3374</td>\n",
       "      <td>13190</td>\n",
       "      <td>09-08-2002</td>\n",
       "      <td>Revolution Studios</td>\n",
       "    </tr>\n",
       "  </tbody>\n",
       "</table>\n",
       "<p>1000 rows × 8 columns</p>\n",
       "</div>"
      ],
      "text/plain": [
       "                    Release   Opening  Total Gross  % of Total  Theaters  \\\n",
       "807     10 Cloverfield Lane  24727437     72082998        34.3      3391   \n",
       "474               10,000 BC  35867488     94784201        37.8      3410   \n",
       "527          101 Dalmatians  33504025    136189294        24.6      2794   \n",
       "861                17 Again  23722310     64167069        37.0      3255   \n",
       "280        2 Fast 2 Furious  50472480    127154901        39.7      3408   \n",
       "..                      ...       ...          ...         ...       ...   \n",
       "986      You, Me and Dupree  21525560     75628110        28.5      3131   \n",
       "806              Zombieland  24733155     75590286        32.7      3036   \n",
       "728  Zombieland: Double Tap  26803104     73123082        36.6      3468   \n",
       "129                Zootopia  75063401    341268248        22.0      3827   \n",
       "342                     xXx  44506103    142109382        31.3      3374   \n",
       "\n",
       "     Average        Date                          Distributor  \n",
       "807     7292  11-03-2016                   Paramount Pictures  \n",
       "474    10518  07-03-2008                         Warner Bros.  \n",
       "527    11991  27-11-1996  Walt Disney Studios Motion Pictures  \n",
       "861     7287  17-04-2009                         Warner Bros.  \n",
       "280    14810  06-06-2003                   Universal Pictures  \n",
       "..       ...         ...                                  ...  \n",
       "986     6874  14-07-2006                   Universal Pictures  \n",
       "806     8146  02-10-2009              Sony Pictures Releasing  \n",
       "728     7728  18-10-2019              Sony Pictures Releasing  \n",
       "129    19614  04-03-2016  Walt Disney Studios Motion Pictures  \n",
       "342    13190  09-08-2002                   Revolution Studios  \n",
       "\n",
       "[1000 rows x 8 columns]"
      ]
     },
     "execution_count": 162,
     "metadata": {},
     "output_type": "execute_result"
    }
   ],
   "source": [
    "# arranging Release in ascending value\n",
    "data.sort_values('Release',ascending=True)"
   ]
  },
  {
   "cell_type": "markdown",
   "id": "193b2ae6-1aae-4a2f-8679-3188d94eb7e7",
   "metadata": {},
   "source": [
    "## Data.GroupBy"
   ]
  },
  {
   "cell_type": "code",
   "execution_count": 32,
   "id": "0731f51a-6463-4754-aeb5-2dbf8c7ca729",
   "metadata": {},
   "outputs": [
    {
     "data": {
      "text/html": [
       "<div>\n",
       "<style scoped>\n",
       "    .dataframe tbody tr th:only-of-type {\n",
       "        vertical-align: middle;\n",
       "    }\n",
       "\n",
       "    .dataframe tbody tr th {\n",
       "        vertical-align: top;\n",
       "    }\n",
       "\n",
       "    .dataframe thead th {\n",
       "        text-align: right;\n",
       "    }\n",
       "</style>\n",
       "<table border=\"1\" class=\"dataframe\">\n",
       "  <thead>\n",
       "    <tr style=\"text-align: right;\">\n",
       "      <th></th>\n",
       "      <th>Distributor</th>\n",
       "      <th>counts</th>\n",
       "    </tr>\n",
       "  </thead>\n",
       "  <tbody>\n",
       "    <tr>\n",
       "      <th>0</th>\n",
       "      <td>-</td>\n",
       "      <td>4</td>\n",
       "    </tr>\n",
       "    <tr>\n",
       "      <th>1</th>\n",
       "      <td>20th Century Studios</td>\n",
       "      <td>3</td>\n",
       "    </tr>\n",
       "    <tr>\n",
       "      <th>2</th>\n",
       "      <td>Columbia Pictures</td>\n",
       "      <td>5</td>\n",
       "    </tr>\n",
       "    <tr>\n",
       "      <th>3</th>\n",
       "      <td>Dimension Films</td>\n",
       "      <td>5</td>\n",
       "    </tr>\n",
       "    <tr>\n",
       "      <th>4</th>\n",
       "      <td>DreamWorks</td>\n",
       "      <td>22</td>\n",
       "    </tr>\n",
       "    <tr>\n",
       "      <th>5</th>\n",
       "      <td>DreamWorks Distribution</td>\n",
       "      <td>14</td>\n",
       "    </tr>\n",
       "    <tr>\n",
       "      <th>6</th>\n",
       "      <td>FilmDistrict</td>\n",
       "      <td>2</td>\n",
       "    </tr>\n",
       "    <tr>\n",
       "      <th>7</th>\n",
       "      <td>Focus Features</td>\n",
       "      <td>3</td>\n",
       "    </tr>\n",
       "    <tr>\n",
       "      <th>8</th>\n",
       "      <td>Lionsgate Films</td>\n",
       "      <td>43</td>\n",
       "    </tr>\n",
       "    <tr>\n",
       "      <th>9</th>\n",
       "      <td>Metro-Goldwyn-Mayer</td>\n",
       "      <td>11</td>\n",
       "    </tr>\n",
       "    <tr>\n",
       "      <th>10</th>\n",
       "      <td>Miramax</td>\n",
       "      <td>4</td>\n",
       "    </tr>\n",
       "    <tr>\n",
       "      <th>11</th>\n",
       "      <td>New Line Cinema</td>\n",
       "      <td>19</td>\n",
       "    </tr>\n",
       "    <tr>\n",
       "      <th>12</th>\n",
       "      <td>Newmarket Films</td>\n",
       "      <td>1</td>\n",
       "    </tr>\n",
       "    <tr>\n",
       "      <th>13</th>\n",
       "      <td>Paramount Pictures</td>\n",
       "      <td>108</td>\n",
       "    </tr>\n",
       "    <tr>\n",
       "      <th>14</th>\n",
       "      <td>Relativity Media</td>\n",
       "      <td>3</td>\n",
       "    </tr>\n",
       "    <tr>\n",
       "      <th>15</th>\n",
       "      <td>Revolution Studios</td>\n",
       "      <td>8</td>\n",
       "    </tr>\n",
       "    <tr>\n",
       "      <th>16</th>\n",
       "      <td>STX Entertainment</td>\n",
       "      <td>2</td>\n",
       "    </tr>\n",
       "    <tr>\n",
       "      <th>17</th>\n",
       "      <td>Screen Gems</td>\n",
       "      <td>19</td>\n",
       "    </tr>\n",
       "    <tr>\n",
       "      <th>18</th>\n",
       "      <td>Sony Pictures Releasing</td>\n",
       "      <td>106</td>\n",
       "    </tr>\n",
       "    <tr>\n",
       "      <th>19</th>\n",
       "      <td>Summit Entertainment</td>\n",
       "      <td>6</td>\n",
       "    </tr>\n",
       "    <tr>\n",
       "      <th>20</th>\n",
       "      <td>The Weinstein Company</td>\n",
       "      <td>3</td>\n",
       "    </tr>\n",
       "    <tr>\n",
       "      <th>21</th>\n",
       "      <td>TriStar Pictures</td>\n",
       "      <td>5</td>\n",
       "    </tr>\n",
       "    <tr>\n",
       "      <th>22</th>\n",
       "      <td>Twentieth Century Fox</td>\n",
       "      <td>127</td>\n",
       "    </tr>\n",
       "    <tr>\n",
       "      <th>23</th>\n",
       "      <td>United Artists Releasing</td>\n",
       "      <td>2</td>\n",
       "    </tr>\n",
       "    <tr>\n",
       "      <th>24</th>\n",
       "      <td>Universal Pictures</td>\n",
       "      <td>156</td>\n",
       "    </tr>\n",
       "    <tr>\n",
       "      <th>25</th>\n",
       "      <td>Universal Pictures International</td>\n",
       "      <td>1</td>\n",
       "    </tr>\n",
       "    <tr>\n",
       "      <th>26</th>\n",
       "      <td>Walt Disney Studios Motion Pictures</td>\n",
       "      <td>147</td>\n",
       "    </tr>\n",
       "    <tr>\n",
       "      <th>27</th>\n",
       "      <td>Warner Bros.</td>\n",
       "      <td>171</td>\n",
       "    </tr>\n",
       "  </tbody>\n",
       "</table>\n",
       "</div>"
      ],
      "text/plain": [
       "                            Distributor  counts\n",
       "0                                     -       4\n",
       "1                  20th Century Studios       3\n",
       "2                     Columbia Pictures       5\n",
       "3                       Dimension Films       5\n",
       "4                            DreamWorks      22\n",
       "5               DreamWorks Distribution      14\n",
       "6                          FilmDistrict       2\n",
       "7                        Focus Features       3\n",
       "8                       Lionsgate Films      43\n",
       "9                   Metro-Goldwyn-Mayer      11\n",
       "10                              Miramax       4\n",
       "11                      New Line Cinema      19\n",
       "12                      Newmarket Films       1\n",
       "13                   Paramount Pictures     108\n",
       "14                     Relativity Media       3\n",
       "15                   Revolution Studios       8\n",
       "16                    STX Entertainment       2\n",
       "17                          Screen Gems      19\n",
       "18              Sony Pictures Releasing     106\n",
       "19                 Summit Entertainment       6\n",
       "20                The Weinstein Company       3\n",
       "21                     TriStar Pictures       5\n",
       "22                Twentieth Century Fox     127\n",
       "23             United Artists Releasing       2\n",
       "24                   Universal Pictures     156\n",
       "25     Universal Pictures International       1\n",
       "26  Walt Disney Studios Motion Pictures     147\n",
       "27                         Warner Bros.     171"
      ]
     },
     "execution_count": 32,
     "metadata": {},
     "output_type": "execute_result"
    }
   ],
   "source": [
    "# displays the counts of distributor using groupby() method\n",
    "data.groupby(['Distributor']).size().reset_index(name='counts')\n"
   ]
  },
  {
   "cell_type": "markdown",
   "id": "650403d5-c15c-493a-8f0f-ba0ef8fa3e13",
   "metadata": {},
   "source": [
    "## Data Visualization"
   ]
  },
  {
   "cell_type": "code",
   "execution_count": 10,
   "id": "7ab3d366-de6e-49d9-b884-023319a62759",
   "metadata": {},
   "outputs": [],
   "source": [
    "# used to plot related graph based on given data in dataset\n",
    "import matplotlib.pyplot as plt"
   ]
  },
  {
   "cell_type": "code",
   "execution_count": 76,
   "id": "0fef1dab-f153-4dcb-8884-b5779d1fc40f",
   "metadata": {},
   "outputs": [
    {
     "data": {
      "text/plain": [
       "<matplotlib.legend.Legend at 0x229fa560e60>"
      ]
     },
     "execution_count": 76,
     "metadata": {},
     "output_type": "execute_result"
    },
    {
     "data": {
      "image/png": "[encoded data removed]",
      "text/plain": [
       "<Figure size 640x480 with 1 Axes>"
      ]
     },
     "metadata": {},
     "output_type": "display_data"
    }
   ],
   "source": [
    "# displays the percentage of releases by the distriibutor \n",
    "data.Distributor.value_counts().head(10).plot(kind='pie',color=\"orange\" ,autopct='%1.2f%% ')\n",
    "plt.title(\"Released by the Distributor\")\n",
    "plt.ylabel('Release')\n",
    "plt.legend()"
   ]
  },
  {
   "cell_type": "code",
   "execution_count": 163,
   "id": "e3ca6d80-6cd6-4ad5-8d43-661a8f92fd1b",
   "metadata": {},
   "outputs": [
    {
     "data": {
      "image/png": "[encoded data removed]",
      "text/plain": [
       "<Figure size 640x480 with 1 Axes>"
      ]
     },
     "metadata": {},
     "output_type": "display_data"
    }
   ],
   "source": [
    "# dislays the percentage on total based on release\n",
    "df = pd.DataFrame(data.head(10))\n",
    "df['% of Total'].value_counts().plot(kind='area', color='green')\n",
    "plt.xlabel('Release')\n",
    "plt.ylabel('Value count')\n",
    "plt.title(\"% of Total Gross \")\n",
    "plt.xticks(rotation=60)\n",
    "plt.show()"
   ]
  },
  {
   "cell_type": "code",
   "execution_count": 51,
   "id": "ade4d9d1-edcd-4508-ba5e-1b209d7d1e35",
   "metadata": {},
   "outputs": [
    {
     "data": {
      "image/png": "[encoded data removed]",
      "text/plain": [
       "<Figure size 1000x600 with 1 Axes>"
      ]
     },
     "metadata": {},
     "output_type": "display_data"
    }
   ],
   "source": [
    "import pandas as pd\n",
    "import matplotlib.pyplot as plt\n",
    "\n",
    " # to assume the data is stored in .csv method  \n",
    "data = pd.read_csv('Top_Highest_Openings.csv',)\n",
    "data\n",
    "\n",
    "# To count thr release by Distributor\n",
    "Release_counts = df['Distributor'].value_counts()\n",
    "\n",
    "# Plotting the scatter graph\n",
    "plt.figure(figsize=(10, 6))\n",
    "plt.scatter(Release_counts.index, Release_counts.values, color='blue', alpha=0.7)\n",
    "plt.title(' Highest Number of Release by Distributor')\n",
    "plt.xlabel('Distributor')\n",
    "plt.ylabel('Release')\n",
    "plt.xticks(rotation=45)  # Rotate x-axis labels for better readability\n",
    "plt.grid(True)\n",
    "plt.show()\n",
    "\n",
    "\n"
   ]
  },
  {
   "cell_type": "code",
   "execution_count": 97,
   "id": "5f72c457-eef8-475f-a12a-9b902eb084e0",
   "metadata": {},
   "outputs": [
    {
     "data": {
      "text/plain": [
       "<matplotlib.legend.Legend at 0x229801486b0>"
      ]
     },
     "execution_count": 97,
     "metadata": {},
     "output_type": "execute_result"
    },
    {
     "data": {
      "image/png": "[encoded data removed]",
      "text/plain": [
       "<Figure size 640x480 with 1 Axes>"
      ]
     },
     "metadata": {},
     "output_type": "display_data"
    }
   ],
   "source": [
    "# displays the average number of releases \n",
    "data.Average.value_counts().head(10).plot(kind='bar',color=\"orange\")\n",
    "plt.title(\"Average Releases\")\n",
    "plt.ylabel('count')\n",
    "plt.legend()"
   ]
  },
  {
   "cell_type": "code",
   "execution_count": 124,
   "id": "d96d8c89-a455-491c-9528-3133c0791978",
   "metadata": {},
   "outputs": [
    {
     "data": {
      "image/png": "[encoded data removed]",
      "text/plain": [
       "<Figure size 640x480 with 1 Axes>"
      ]
     },
     "metadata": {},
     "output_type": "display_data"
    }
   ],
   "source": [
    "# Displays number of movies released in  same day\n",
    "data.Date.value_counts().head(20).plot(kind='barh',color='green')\n",
    "plt.title('Most no of release by date')\n",
    "plt.xlabel(\"Release Date\")\n",
    "plt.ylabel('counts')\n",
    "plt.legend()\n",
    "plt.show()"
   ]
  },
  {
   "cell_type": "code",
   "execution_count": 141,
   "id": "a5fd44ad-1e98-4fa5-b2dc-3eae46260948",
   "metadata": {},
   "outputs": [
    {
     "data": {
      "image/png": "[encoded data removed]",
      "text/plain": [
       "<Figure size 640x480 with 1 Axes>"
      ]
     },
     "metadata": {},
     "output_type": "display_data"
    }
   ],
   "source": [
    "#Creating a bar chart to show top 10 release in theatre\n",
    "data.Release.value_counts().head(10).plot(kind='barh',color='purple')\n",
    "plt.title('Top Releases in Theatre')\n",
    "plt.xlabel(\"Release\")\n",
    "plt.ylabel('counts')\n",
    "plt.show()"
   ]
  },
  {
   "cell_type": "code",
   "execution_count": 164,
   "id": "8670958a-2805-42fd-81ba-4a2cba56d9d2",
   "metadata": {},
   "outputs": [
    {
     "name": "stdout",
     "output_type": "stream",
     "text": [
      "Total gross earnings on release: $ 6877157578\n"
     ]
    }
   ],
   "source": [
    "import pandas as pd\n",
    "\n",
    "# Calculate the total gross earnings on release\n",
    "total_gross_on_release = df['Total Gross'].sum()\n",
    "\n",
    "print(\"Total gross earnings on release: $\", total_gross_on_release)"
   ]
  },
  {
   "cell_type": "code",
   "execution_count": null,
   "id": "dc0a8e02-4b9a-476f-a132-ab3906df3487",
   "metadata": {},
   "outputs": [],
   "source": []
  }
 ],
 "metadata": {
  "kernelspec": {
   "display_name": "Python 3 (ipykernel)",
   "language": "python",
   "name": "python3"
  },
  "language_info": {
   "codemirror_mode": {
    "name": "ipython",
    "version": 3
   },
   "file_extension": ".py",
   "mimetype": "text/x-python",
   "name": "python",
   "nbconvert_exporter": "python",
   "pygments_lexer": "ipython3",
   "version": "3.12.3"
  }
 },
 "nbformat": 4,
 "nbformat_minor": 5
}
